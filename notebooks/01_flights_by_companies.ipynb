{
 "cells": [
  {
   "cell_type": "code",
   "execution_count": 4,
   "metadata": {},
   "outputs": [],
   "source": [
    "from FlightRadar24.api import FlightRadar24API\n",
    "from collections import Counter"
   ]
  },
  {
   "cell_type": "code",
   "execution_count": 5,
   "metadata": {},
   "outputs": [
    {
     "data": {
      "text/plain": [
       "<FlightRadar24.api.FlightRadar24API at 0x7f161a03b280>"
      ]
     },
     "execution_count": 5,
     "metadata": {},
     "output_type": "execute_result"
    }
   ],
   "source": [
    "fr_api = FlightRadar24API()\n",
    "fr_api"
   ]
  },
  {
   "cell_type": "code",
   "execution_count": 6,
   "metadata": {},
   "outputs": [
    {
     "data": {
      "text/plain": [
       "[{'Name': '21 Air', 'Code': '2I', 'ICAO': 'CSB'},\n",
       " {'Name': '25only Aviation', 'Code': '4Q', 'ICAO': 'ONY'},\n",
       " {'Name': '2Excel Aviation', 'Code': '', 'ICAO': 'BRO'},\n",
       " {'Name': '40-Mile Air', 'Code': 'Q5', 'ICAO': 'MLA'},\n",
       " {'Name': '748 Air Services', 'Code': 'FE', 'ICAO': 'IHO'}]"
      ]
     },
     "execution_count": 6,
     "metadata": {},
     "output_type": "execute_result"
    }
   ],
   "source": [
    "airlines = fr_api.get_airlines()\n",
    "airlines[:5]"
   ]
  },
  {
   "cell_type": "code",
   "execution_count": 9,
   "metadata": {},
   "outputs": [
    {
     "data": {
      "text/plain": [
       "[('21 Air', 0),\n",
       " ('25only Aviation', 0),\n",
       " ('2Excel Aviation', 1500),\n",
       " ('40-Mile Air', 0),\n",
       " ('748 Air Services', 1),\n",
       " ('9 Air', 0),\n",
       " ('Abakan Air', 0),\n",
       " ('ABS Jets', 1500),\n",
       " ('Abu Dhabi Aviation', 1500),\n",
       " ('ABX Air', 3)]"
      ]
     },
     "execution_count": 9,
     "metadata": {},
     "output_type": "execute_result"
    }
   ],
   "source": [
    "flights_by_airlines = []\n",
    "\n",
    "for airline in airlines[:10]:\n",
    "    flights = fr_api.get_flights(airline = airline.get('Code'))\n",
    "    flights_by_airlines.append((airline.get(\"Name\"), len(flights)))\n",
    "    \n",
    "flights_by_airlines"
   ]
  },
  {
   "cell_type": "code",
   "execution_count": 10,
   "metadata": {},
   "outputs": [
    {
     "data": {
      "text/plain": [
       "[{'Name': '21 Air', 'Code': '2I', 'ICAO': 'CSB'},\n",
       " {'Name': '25only Aviation', 'Code': '4Q', 'ICAO': 'ONY'},\n",
       " {'Name': '2Excel Aviation', 'Code': '', 'ICAO': 'BRO'},\n",
       " {'Name': '40-Mile Air', 'Code': 'Q5', 'ICAO': 'MLA'},\n",
       " {'Name': '748 Air Services', 'Code': 'FE', 'ICAO': 'IHO'},\n",
       " {'Name': '9 Air', 'Code': 'AQ', 'ICAO': 'JYH'},\n",
       " {'Name': 'Abakan Air', 'Code': 'S5', 'ICAO': 'NKP'},\n",
       " {'Name': 'ABS Jets', 'Code': '', 'ICAO': 'ABP'},\n",
       " {'Name': 'Abu Dhabi Aviation', 'Code': '', 'ICAO': 'BAR'},\n",
       " {'Name': 'ABX Air', 'Code': 'GB', 'ICAO': 'ABX'}]"
      ]
     },
     "execution_count": 10,
     "metadata": {},
     "output_type": "execute_result"
    }
   ],
   "source": [
    "airlines[:10]"
   ]
  },
  {
   "cell_type": "code",
   "execution_count": null,
   "metadata": {},
   "outputs": [],
   "source": [
    "flights = fr_api.get_flights(airline = airline.get('Code'))\n"
   ]
  },
  {
   "cell_type": "code",
   "execution_count": null,
   "metadata": {},
   "outputs": [],
   "source": []
  },
  {
   "cell_type": "code",
   "execution_count": null,
   "metadata": {},
   "outputs": [],
   "source": [
    "flights_by_airlines"
   ]
  },
  {
   "cell_type": "code",
   "execution_count": null,
   "metadata": {},
   "outputs": [],
   "source": [
    "flights = fr_api.get_flights(\"AF\")\n",
    "flights"
   ]
  },
  {
   "cell_type": "code",
   "execution_count": null,
   "metadata": {},
   "outputs": [],
   "source": [
    "flights = fr_api.get_flights()\n",
    "flights"
   ]
  },
  {
   "cell_type": "code",
   "execution_count": null,
   "metadata": {},
   "outputs": [],
   "source": [
    "len(flights)"
   ]
  },
  {
   "cell_type": "code",
   "execution_count": null,
   "metadata": {},
   "outputs": [],
   "source": [
    "flights_airlines = [(f.airline_iata, f.airline_icao) for f in flights]"
   ]
  },
  {
   "cell_type": "code",
   "execution_count": null,
   "metadata": {},
   "outputs": [],
   "source": [
    "Counter([i[0] for i in flights_airlines])"
   ]
  },
  {
   "cell_type": "code",
   "execution_count": null,
   "metadata": {},
   "outputs": [],
   "source": [
    "Counter([i[1] for i in flights_airlines])"
   ]
  },
  {
   "cell_type": "code",
   "execution_count": null,
   "metadata": {},
   "outputs": [],
   "source": [
    "dir(flight)"
   ]
  },
  {
   "cell_type": "code",
   "execution_count": null,
   "metadata": {},
   "outputs": [],
   "source": [
    "details = fr_api.get_flight_details(flight.id)\n",
    "details"
   ]
  },
  {
   "cell_type": "code",
   "execution_count": null,
   "metadata": {},
   "outputs": [],
   "source": [
    "details.keys()"
   ]
  },
  {
   "cell_type": "code",
   "execution_count": null,
   "metadata": {},
   "outputs": [],
   "source": [
    "details['airline']"
   ]
  },
  {
   "cell_type": "code",
   "execution_count": null,
   "metadata": {},
   "outputs": [],
   "source": []
  },
  {
   "cell_type": "code",
   "execution_count": null,
   "metadata": {},
   "outputs": [],
   "source": []
  },
  {
   "cell_type": "code",
   "execution_count": null,
   "metadata": {},
   "outputs": [],
   "source": []
  },
  {
   "cell_type": "code",
   "execution_count": null,
   "metadata": {},
   "outputs": [],
   "source": []
  },
  {
   "cell_type": "markdown",
   "metadata": {},
   "source": [
    "#### Airport List"
   ]
  },
  {
   "cell_type": "code",
   "execution_count": null,
   "metadata": {},
   "outputs": [],
   "source": [
    "airports = fr_api.get_airports()\n",
    "airports"
   ]
  },
  {
   "cell_type": "markdown",
   "metadata": {},
   "source": [
    "#### Airport Info by code"
   ]
  },
  {
   "cell_type": "code",
   "execution_count": null,
   "metadata": {},
   "outputs": [],
   "source": [
    "fr_api.get_airport(\"LCG\")"
   ]
  },
  {
   "cell_type": "markdown",
   "metadata": {},
   "source": [
    "#### Airlines List"
   ]
  },
  {
   "cell_type": "code",
   "execution_count": null,
   "metadata": {},
   "outputs": [],
   "source": [
    "airlines = fr_api.get_airlines()\n",
    "airlines"
   ]
  },
  {
   "cell_type": "markdown",
   "metadata": {},
   "source": [
    "#### Flights List "
   ]
  },
  {
   "cell_type": "code",
   "execution_count": null,
   "metadata": {},
   "outputs": [],
   "source": [
    "flights = fr_api.get_flights()\n",
    "flights"
   ]
  },
  {
   "cell_type": "markdown",
   "metadata": {},
   "source": [
    "#### Zone List"
   ]
  },
  {
   "cell_type": "code",
   "execution_count": null,
   "metadata": {
    "scrolled": true
   },
   "outputs": [],
   "source": [
    "zones = fr_api.get_zones()\n",
    "zones"
   ]
  },
  {
   "cell_type": "markdown",
   "metadata": {},
   "source": [
    "#### Informations about specific flight"
   ]
  },
  {
   "cell_type": "code",
   "execution_count": null,
   "metadata": {},
   "outputs": [],
   "source": [
    "flight = flights[0]\n",
    "details = fr_api.get_flight_details(flight.id)"
   ]
  },
  {
   "cell_type": "code",
   "execution_count": null,
   "metadata": {},
   "outputs": [],
   "source": [
    "details"
   ]
  },
  {
   "cell_type": "code",
   "execution_count": null,
   "metadata": {},
   "outputs": [],
   "source": [
    "print(flight.id)\n",
    "print(flight.latitude)\n",
    "print(flight.longitude)\n",
    "print(flight.destination_airport_name)"
   ]
  },
  {
   "cell_type": "markdown",
   "metadata": {},
   "source": [
    "### Filtering flights and airports:\n",
    "\n",
    "#### Getting flights by airline:"
   ]
  },
  {
   "cell_type": "code",
   "execution_count": null,
   "metadata": {},
   "outputs": [],
   "source": [
    "airline_icao = \"AZU\"\n",
    "thy_flights = fr_api.get_flights(airline = airline_icao)\n",
    "thy_flights[:5]"
   ]
  },
  {
   "cell_type": "markdown",
   "metadata": {},
   "source": [
    "#### Getting flights by bounds:"
   ]
  },
  {
   "cell_type": "code",
   "execution_count": null,
   "metadata": {},
   "outputs": [],
   "source": [
    "bounds = fr_api.get_bounds(zone)\n",
    "flights = fr_api.get_flights(bounds = bounds)"
   ]
  },
  {
   "cell_type": "markdown",
   "metadata": {},
   "source": [
    "#### Getting airport by ICAO or IATA:"
   ]
  },
  {
   "cell_type": "code",
   "execution_count": null,
   "metadata": {},
   "outputs": [],
   "source": [
    "airport_icao = \"VNLK\"\n",
    "lukla_airport = fr_api.get_airport(airport_icao)"
   ]
  }
 ],
 "metadata": {
  "kernelspec": {
   "display_name": "Python 3 (ipykernel)",
   "language": "python",
   "name": "python3"
  },
  "language_info": {
   "codemirror_mode": {
    "name": "ipython",
    "version": 3
   },
   "file_extension": ".py",
   "mimetype": "text/x-python",
   "name": "python",
   "nbconvert_exporter": "python",
   "pygments_lexer": "ipython3",
   "version": "3.8.16"
  }
 },
 "nbformat": 4,
 "nbformat_minor": 2
}
